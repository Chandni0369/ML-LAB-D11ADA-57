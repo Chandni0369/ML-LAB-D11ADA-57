{
  "nbformat": 4,
  "nbformat_minor": 0,
  "metadata": {
    "colab": {
      "provenance": [],
      "authorship_tag": "ABX9TyOY54qBdVB3BBFpti7cXhPm",
      "include_colab_link": true
    },
    "kernelspec": {
      "name": "python3",
      "display_name": "Python 3"
    },
    "language_info": {
      "name": "python"
    }
  },
  "cells": [
    {
      "cell_type": "markdown",
      "metadata": {
        "id": "view-in-github",
        "colab_type": "text"
      },
      "source": [
        "<a href=\"https://colab.research.google.com/github/Chandni0369/ML-LAB-D11ADA-57/blob/main/exp%208/ML_exp8.ipynb\" target=\"_parent\"><img src=\"https://colab.research.google.com/assets/colab-badge.svg\" alt=\"Open In Colab\"/></a>"
      ]
    },
    {
      "cell_type": "code",
      "execution_count": 6,
      "metadata": {
        "id": "1L9jDJL5EzgR"
      },
      "outputs": [],
      "source": [
        "import numpy as np\n",
        "import pandas as pd\n",
        "\n",
        "def MP_Neuron(inputs, weights, threshold):\n",
        "    total = np.dot(inputs, weights)\n",
        "    return 1 if total >= threshold else 0"
      ]
    },
    {
      "cell_type": "code",
      "source": [
        "n = int(input(\"Enter number of inputs: \"))\n",
        "X = np.array([list(map(int, np.binary_repr(i, n))) for i in range(2**n)])\n",
        "print(\"\\nAll possible input combinations:\")\n",
        "print(X)"
      ],
      "metadata": {
        "colab": {
          "base_uri": "https://localhost:8080/"
        },
        "id": "cMFNX4S2Ghhl",
        "outputId": "8419ecf5-dffa-4713-a507-ece97fe9093f"
      },
      "execution_count": 7,
      "outputs": [
        {
          "output_type": "stream",
          "name": "stdout",
          "text": [
            "Enter number of inputs: 3\n",
            "\n",
            "All possible input combinations:\n",
            "[[0 0 0]\n",
            " [0 0 1]\n",
            " [0 1 0]\n",
            " [0 1 1]\n",
            " [1 0 0]\n",
            " [1 0 1]\n",
            " [1 1 0]\n",
            " [1 1 1]]\n"
          ]
        }
      ]
    },
    {
      "cell_type": "code",
      "source": [
        "weights = np.ones(n)\n",
        "threshold_and = n\n",
        "y_and = [MP_Neuron(x, weights, threshold_and) for x in X]\n",
        "\n",
        "df_and = pd.DataFrame(\n",
        "    np.column_stack((X, y_and)),\n",
        "    columns=[f'X{i+1}' for i in range(n)] + ['AND Output']\n",
        ")\n",
        "\n",
        "print(\"\\nAND Gate Truth Table:\\n\")\n",
        "print(df_and.to_string(index=False))"
      ],
      "metadata": {
        "colab": {
          "base_uri": "https://localhost:8080/"
        },
        "id": "Pad6WQmVGpEm",
        "outputId": "e4ddd84c-5726-4ffa-e354-a67b223f92cc"
      },
      "execution_count": 9,
      "outputs": [
        {
          "output_type": "stream",
          "name": "stdout",
          "text": [
            "\n",
            "AND Gate Truth Table:\n",
            "\n",
            " X1  X2  X3  AND Output\n",
            "  0   0   0           0\n",
            "  0   0   1           0\n",
            "  0   1   0           0\n",
            "  0   1   1           0\n",
            "  1   0   0           0\n",
            "  1   0   1           0\n",
            "  1   1   0           0\n",
            "  1   1   1           1\n"
          ]
        }
      ]
    },
    {
      "cell_type": "code",
      "source": [
        "weights = np.ones(n)\n",
        "threshold_or = 1\n",
        "y_or = [MP_Neuron(x, weights, threshold_or) for x in X]\n",
        "\n",
        "df_or = pd.DataFrame(\n",
        "    np.column_stack((X, y_or)),\n",
        "    columns=[f'X{i+1}' for i in range(n)] + ['OR Output']\n",
        ")\n",
        "\n",
        "print(\"\\nOR Gate Truth Table:\\n\")\n",
        "print(df_or.to_string(index=False))\n"
      ],
      "metadata": {
        "colab": {
          "base_uri": "https://localhost:8080/"
        },
        "id": "dKJwa-PXHZHw",
        "outputId": "4627c49f-1870-4432-ebef-d107c7f5eabe"
      },
      "execution_count": 10,
      "outputs": [
        {
          "output_type": "stream",
          "name": "stdout",
          "text": [
            "\n",
            "OR Gate Truth Table:\n",
            "\n",
            " X1  X2  X3  OR Output\n",
            "  0   0   0          0\n",
            "  0   0   1          1\n",
            "  0   1   0          1\n",
            "  0   1   1          1\n",
            "  1   0   0          1\n",
            "  1   0   1          1\n",
            "  1   1   0          1\n",
            "  1   1   1          1\n"
          ]
        }
      ]
    }
  ]
}