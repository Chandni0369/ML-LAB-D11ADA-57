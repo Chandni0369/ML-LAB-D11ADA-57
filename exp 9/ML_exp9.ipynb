{
  "nbformat": 4,
  "nbformat_minor": 0,
  "metadata": {
    "colab": {
      "provenance": [],
      "authorship_tag": "ABX9TyPge5ngy1wi52LEa+a0Dnqu",
      "include_colab_link": true
    },
    "kernelspec": {
      "name": "python3",
      "display_name": "Python 3"
    },
    "language_info": {
      "name": "python"
    }
  },
  "cells": [
    {
      "cell_type": "markdown",
      "metadata": {
        "id": "view-in-github",
        "colab_type": "text"
      },
      "source": [
        "<a href=\"https://colab.research.google.com/github/Chandni0369/ML-LAB-D11ADA-57/blob/main/exp%209/ML_exp9.ipynb\" target=\"_parent\"><img src=\"https://colab.research.google.com/assets/colab-badge.svg\" alt=\"Open In Colab\"/></a>"
      ]
    },
    {
      "cell_type": "code",
      "execution_count": 1,
      "metadata": {
        "colab": {
          "base_uri": "https://localhost:8080/"
        },
        "id": "fhhb3zSEHnU_",
        "outputId": "ef677d53-82d8-40a6-bdf4-75b274d02b40"
      },
      "outputs": [
        {
          "output_type": "stream",
          "name": "stdout",
          "text": [
            "Sample data:\n",
            " [[0 1 1]\n",
            " [0 0 0]\n",
            " [0 1 1]\n",
            " [0 0 0]\n",
            " [0 1 1]\n",
            " [0 0 0]\n",
            " [0 0 0]\n",
            " [1 0 1]\n",
            " [1 1 0]\n",
            " [1 0 1]]\n"
          ]
        }
      ],
      "source": [
        "import numpy as np\n",
        "import pandas as pd\n",
        "import matplotlib.pyplot as plt\n",
        "\n",
        "np.random.seed(42)\n",
        "\n",
        "def xor_function(x1, x2):\n",
        "    return np.logical_xor(x1, x2).astype(int)\n",
        "\n",
        "N = 1000  # number of samples\n",
        "X = np.random.randint(0, 2, (N, 2))\n",
        "y = np.array([xor_function(x[0], x[1]) for x in X]).reshape(N, 1)\n",
        "\n",
        "print(\"Sample data:\\n\", np.hstack((X, y))[:10])"
      ]
    },
    {
      "cell_type": "code",
      "source": [
        "input_size = 2\n",
        "hidden_size = 2\n",
        "output_size = 1\n",
        "\n",
        "W1 = np.random.uniform(-1, 1, (input_size, hidden_size))\n",
        "b1 = np.zeros((1, hidden_size))\n",
        "W2 = np.random.uniform(-1, 1, (hidden_size, output_size))\n",
        "b2 = np.zeros((1, output_size))\n",
        "\n",
        "lr = 0.1  # learning rate\n",
        "epochs = 2000"
      ],
      "metadata": {
        "id": "NRapXF-eIGp9"
      },
      "execution_count": 2,
      "outputs": []
    },
    {
      "cell_type": "code",
      "source": [
        "def sigmoid(x):\n",
        "    return 1 / (1 + np.exp(-x))\n",
        "\n",
        "def sigmoid_derivative(x):\n",
        "    return x * (1 - x)"
      ],
      "metadata": {
        "id": "ido_zWRGIL6q"
      },
      "execution_count": 3,
      "outputs": []
    },
    {
      "cell_type": "code",
      "source": [
        "loss_history = []\n",
        "W1_changes, W2_changes = [], []\n",
        "\n",
        "for epoch in range(epochs):\n",
        "    # Forward pass\n",
        "    z1 = np.dot(X, W1) + b1\n",
        "    a1 = sigmoid(z1)\n",
        "    z2 = np.dot(a1, W2) + b2\n",
        "    output = sigmoid(z2)\n",
        "\n",
        "    # Loss (Mean Squared Error)\n",
        "    loss = np.mean((y - output) ** 2)\n",
        "    loss_history.append(loss)\n",
        "\n",
        "    # Backpropagation\n",
        "    error = y - output\n",
        "    d_output = error * sigmoid_derivative(output)\n",
        "\n",
        "    error_hidden = d_output.dot(W2.T)\n",
        "    d_hidden = error_hidden * sigmoid_derivative(a1)\n",
        "\n",
        "    # Store weights before update\n",
        "    W1_prev, W2_prev = W1.copy(), W2.copy()\n",
        "\n",
        "    # Update weights and biases\n",
        "    W2 += a1.T.dot(d_output) * lr\n",
        "    b2 += np.sum(d_output, axis=0, keepdims=True) * lr\n",
        "    W1 += X.T.dot(d_hidden) * lr\n",
        "    b1 += np.sum(d_hidden, axis=0, keepdims=True) * lr\n",
        "\n",
        "    # Record change in weights\n",
        "    W1_changes.append(np.linalg.norm(W1 - W1_prev))\n",
        "    W2_changes.append(np.linalg.norm(W2 - W2_prev))\n",
        "\n",
        "    if epoch % 200 == 0:\n",
        "        print(f\"Epoch {epoch}: Loss = {loss:.4f}\")"
      ],
      "metadata": {
        "colab": {
          "base_uri": "https://localhost:8080/"
        },
        "id": "ruApFG2aIOkW",
        "outputId": "230fcfb6-c99a-4e17-cec9-b9f1a73cfc32"
      },
      "execution_count": 4,
      "outputs": [
        {
          "output_type": "stream",
          "name": "stdout",
          "text": [
            "Epoch 0: Loss = 0.2592\n",
            "Epoch 200: Loss = 0.1807\n",
            "Epoch 400: Loss = 0.1862\n",
            "Epoch 600: Loss = 0.1780\n",
            "Epoch 800: Loss = 0.1599\n",
            "Epoch 1000: Loss = 0.1895\n",
            "Epoch 1200: Loss = 0.1958\n",
            "Epoch 1400: Loss = 0.1635\n",
            "Epoch 1600: Loss = 0.1835\n",
            "Epoch 1800: Loss = 0.2296\n"
          ]
        }
      ]
    },
    {
      "cell_type": "code",
      "source": [
        "loss_history = []\n",
        "W1_changes, W2_changes = [], []\n",
        "\n",
        "for epoch in range(epochs):\n",
        "    # Forward pass\n",
        "    z1 = np.dot(X, W1) + b1\n",
        "    a1 = sigmoid(z1)\n",
        "    z2 = np.dot(a1, W2) + b2\n",
        "    output = sigmoid(z2)\n",
        "\n",
        "    # Loss (Mean Squared Error)\n",
        "    loss = np.mean((y - output) ** 2)\n",
        "    loss_history.append(loss)\n",
        "\n",
        "    # Backpropagation\n",
        "    error = y - output\n",
        "    d_output = error * sigmoid_derivative(output)\n",
        "\n",
        "    error_hidden = d_output.dot(W2.T)\n",
        "    d_hidden = error_hidden * sigmoid_derivative(a1)\n",
        "\n",
        "    # Store weights before update\n",
        "    W1_prev, W2_prev = W1.copy(), W2.copy()\n",
        "\n",
        "    # Update weights and biases\n",
        "    W2 += a1.T.dot(d_output) * lr\n",
        "    b2 += np.sum(d_output, axis=0, keepdims=True) * lr\n",
        "    W1 += X.T.dot(d_hidden) * lr\n",
        "    b1 += np.sum(d_hidden, axis=0, keepdims=True) * lr\n",
        "\n",
        "    # Record change in weights\n",
        "    W1_changes.append(np.linalg.norm(W1 - W1_prev))\n",
        "    W2_changes.append(np.linalg.norm(W2 - W2_prev))\n",
        "\n",
        "    if epoch % 200 == 0:\n",
        "        print(f\"Epoch {epoch}: Loss = {loss:.4f}\")"
      ],
      "metadata": {
        "colab": {
          "base_uri": "https://localhost:8080/"
        },
        "id": "t01L_htrIUUp",
        "outputId": "7357500b-2513-440d-8270-d366ebdfe4cc"
      },
      "execution_count": 5,
      "outputs": [
        {
          "output_type": "stream",
          "name": "stdout",
          "text": [
            "Epoch 0: Loss = 0.2299\n",
            "Epoch 200: Loss = 0.2300\n",
            "Epoch 400: Loss = 0.2300\n",
            "Epoch 600: Loss = 0.2292\n",
            "Epoch 800: Loss = 0.2300\n",
            "Epoch 1000: Loss = 0.2299\n",
            "Epoch 1200: Loss = 0.2300\n",
            "Epoch 1400: Loss = 0.2300\n",
            "Epoch 1600: Loss = 0.2299\n",
            "Epoch 1800: Loss = 0.2300\n"
          ]
        }
      ]
    },
    {
      "cell_type": "code",
      "source": [
        "plt.figure(figsize=(10,4))\n",
        "\n",
        "plt.subplot(1,2,1)\n",
        "plt.plot(loss_history, label='Loss')\n",
        "plt.xlabel('Epochs')\n",
        "plt.ylabel('Mean Squared Error')\n",
        "plt.title('Training Loss Curve')\n",
        "plt.legend()\n",
        "\n",
        "plt.subplot(1,2,2)\n",
        "plt.plot(W1_changes, label='W1 Change')\n",
        "plt.plot(W2_changes, label='W2 Change')\n",
        "plt.xlabel('Epochs')\n",
        "plt.ylabel('Weight Change (L2 Norm)')\n",
        "plt.title('Weight Updates Over Time')\n",
        "plt.legend()\n",
        "\n",
        "plt.tight_layout()\n",
        "plt.show()"
      ],
      "metadata": {
        "colab": {
          "base_uri": "https://localhost:8080/",
          "height": 407
        },
        "id": "vd0b4Hb9IWZC",
        "outputId": "f32f9425-2200-44e4-935a-ab244bb67cbb"
      },
      "execution_count": 6,
      "outputs": [
        {
          "output_type": "display_data",
          "data": {
            "text/plain": [
              "<Figure size 1000x400 with 2 Axes>"
            ],
            "image/png": "[encoded data removed]"
          },
          "metadata": {}
        }
      ]
    },
    {
      "cell_type": "code",
      "source": [
        "X_test = np.array([[0,0],[0,1],[1,0],[1,1]])\n",
        "z1 = np.dot(X_test, W1) + b1\n",
        "a1 = sigmoid(z1)\n",
        "z2 = np.dot(a1, W2) + b2\n",
        "y_pred = sigmoid(z2)\n",
        "\n",
        "print(\"\\nXOR Gate Prediction after training:\\n\")\n",
        "df = pd.DataFrame(np.column_stack((X_test, np.round(y_pred))), columns=['X1','X2','Predicted Output'])\n",
        "print(df)"
      ],
      "metadata": {
        "colab": {
          "base_uri": "https://localhost:8080/"
        },
        "id": "hGWAEifIIZZj",
        "outputId": "8d485b47-6395-48d1-d9eb-46a129b63751"
      },
      "execution_count": 8,
      "outputs": [
        {
          "output_type": "stream",
          "name": "stdout",
          "text": [
            "\n",
            "XOR Gate Prediction after training:\n",
            "\n",
            "    X1   X2  Predicted Output\n",
            "0  0.0  0.0               0.0\n",
            "1  0.0  1.0               1.0\n",
            "2  1.0  0.0               1.0\n",
            "3  1.0  1.0               1.0\n"
          ]
        }
      ]
    }
  ]
}